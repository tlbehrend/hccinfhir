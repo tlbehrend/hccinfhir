{
 "cells": [
  {
   "cell_type": "code",
   "execution_count": 1,
   "id": "4a5136ef-635b-4a05-88f9-2949293f3cd2",
   "metadata": {},
   "outputs": [],
   "source": [
    "import sys, os\n",
    "sys.path.insert(0, os.path.abspath('src'))\n",
    "\n",
    "from hccinfhir.model_calculate import calculate_raf"
   ]
  },
  {
   "cell_type": "code",
   "execution_count": 2,
   "id": "1a05d37f-827c-4fb4-a1eb-80d107658311",
   "metadata": {},
   "outputs": [],
   "source": [
    "diagnosis_codes = ['E119', 'I509']  # Diabetes without complications, Heart failure\n",
    "age = 67\n",
    "sex = 'F'\n",
    "model_name = \"CMS-HCC Model V24\"\n",
    "\n",
    "result = calculate_raf(\n",
    "   diagnosis_codes=diagnosis_codes,\n",
    "   model_name=model_name,\n",
    "   age=age,\n",
    "   sex=sex\n",
    ")"
   ]
  },
  {
   "cell_type": "code",
   "execution_count": 3,
   "id": "8b4ee16d-983f-47f1-a141-d8eb777917dc",
   "metadata": {},
   "outputs": [
    {
     "data": {
      "text/plain": [
       "{'risk_score': 0.88,\n",
       " 'risk_score_demographics': 0.323,\n",
       " 'risk_score_chronic_only': 0.436,\n",
       " 'risk_score_hcc': 0.5569999999999999,\n",
       " 'hcc_list': ['19', '85'],\n",
       " 'cc_to_dx': {'85': {'I509'}, '19': {'E119'}},\n",
       " 'coefficients': {'F65_69': 0.323,\n",
       "  '19': 0.105,\n",
       "  '85': 0.331,\n",
       "  'DIABETES_CHF': 0.121,\n",
       "  'D2': 0.0},\n",
       " 'interactions': {'OriginallyDisabled_Female': 0,\n",
       "  'OriginallyDisabled_Male': 0,\n",
       "  'LTI_Aged': 0,\n",
       "  'LTI_NonAged': 0,\n",
       "  'NMCAID_NORIGDIS_F65_69': 1,\n",
       "  'MCAID_NORIGDIS_F65_69': 0,\n",
       "  'NMCAID_ORIGDIS_F65_69': 0,\n",
       "  'MCAID_ORIGDIS_F65_69': 0,\n",
       "  'HCC47_gCancer': 0,\n",
       "  'DIABETES_CHF': 1,\n",
       "  'CHF_gCopdCF': 0,\n",
       "  'HCC85_gRenal_V24': 0,\n",
       "  'gCopdCF_CARD_RESP_FAIL': 0,\n",
       "  'HCC85_HCC96': 0,\n",
       "  'gSubstanceAbuse_gPsych': 0,\n",
       "  'SEPSIS_PRESSURE_ULCER': 0,\n",
       "  'SEPSIS_ARTIF_OPENINGS': 0,\n",
       "  'ART_OPENINGS_PRESS_ULCER': 0,\n",
       "  'gCopdCF_ASP_SPEC_B_PNEUM': 0,\n",
       "  'ASP_SPEC_B_PNEUM_PRES_ULC': 0,\n",
       "  'SEPSIS_ASP_SPEC_BACT_PNEUM': 0,\n",
       "  'SCHIZOPHRENIA_gCopdCF': 0,\n",
       "  'SCHIZOPHRENIA_CHF': 0,\n",
       "  'SCHIZOPHRENIA_SEIZURES': 0,\n",
       "  'DISABLED_HCC85': 0,\n",
       "  'DISABLED_PRESSURE_ULCER': 0,\n",
       "  'DISABLED_HCC161': 0,\n",
       "  'DISABLED_HCC39': 0,\n",
       "  'DISABLED_HCC77': 0,\n",
       "  'DISABLED_HCC6': 0,\n",
       "  'D1': 0,\n",
       "  'D2': 1,\n",
       "  'D3': 0,\n",
       "  'D4': 0,\n",
       "  'D5': 0,\n",
       "  'D6': 0,\n",
       "  'D7': 0,\n",
       "  'D8': 0,\n",
       "  'D9': 0,\n",
       "  'D10P': 0},\n",
       " 'demographics': Demographics(age=67, sex='2', dual_elgbl_cd='NA', orec='0', crec='0', new_enrollee=False, snp=False, version='V2', low_income=False, graft_months=None, category='F65_69', non_aged=False, orig_disabled=False, disabled=False, esrd=False, lti=False, fbd=False, pbd=False),\n",
       " 'model_name': 'CMS-HCC Model V24',\n",
       " 'version': 'V2',\n",
       " 'diagnosis_codes': ['E119', 'I509']}"
      ]
     },
     "execution_count": 3,
     "metadata": {},
     "output_type": "execute_result"
    }
   ],
   "source": [
    "result"
   ]
  },
  {
   "cell_type": "code",
   "execution_count": null,
   "id": "b94f9d7a-9ec4-47a6-850d-6950a43d173d",
   "metadata": {},
   "outputs": [],
   "source": []
  }
 ],
 "metadata": {
  "kernelspec": {
   "display_name": "Python 3 (ipykernel)",
   "language": "python",
   "name": "python3"
  },
  "language_info": {
   "codemirror_mode": {
    "name": "ipython",
    "version": 3
   },
   "file_extension": ".py",
   "mimetype": "text/x-python",
   "name": "python",
   "nbconvert_exporter": "python",
   "pygments_lexer": "ipython3",
   "version": "3.11.13"
  }
 },
 "nbformat": 4,
 "nbformat_minor": 5
}
